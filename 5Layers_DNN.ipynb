{
 "cells": [
  {
   "cell_type": "code",
   "execution_count": 2,
   "id": "40e36b49",
   "metadata": {},
   "outputs": [],
   "source": [
    "import numpy as np \n",
    "import pandas as pd \n",
    "from keras import Sequential\n",
    "from keras.layers import Input, Dense,GaussianNoise, Dropout, BatchNormalization, Activation\n",
    "from keras.models import Model\n"
   ]
  },
  {
   "cell_type": "code",
   "execution_count": 17,
   "id": "d22c8fe6",
   "metadata": {},
   "outputs": [],
   "source": [
    "np.random.seed(2200)"
   ]
  },
  {
   "cell_type": "code",
   "execution_count": 13,
   "id": "e860bebe",
   "metadata": {},
   "outputs": [],
   "source": [
    "x_train = np.random.random((6000, 10))\n",
    "y_train = np.random.randint(2, size=(6000, 1))\n",
    "\n",
    "x_val = np.random.random((2000, 10))\n",
    "y_val = np.random.randint(2, size=(2000, 1))\n",
    "\n",
    "x_test = np.random.random((2000, 10))\n",
    "y_test = np.random.randint(2, size=(2000, 1))\n"
   ]
  },
  {
   "cell_type": "code",
   "execution_count": 14,
   "id": "de9a0bd4",
   "metadata": {},
   "outputs": [],
   "source": [
    "model = Sequential()\n",
    "model.add(Dense(64, input_dim=10, activation= \"relu\"))\n",
    "model.add(Dense(32, activation= \"relu\"))\n",
    "model.add(Dense(16, activation= \"relu\"))\n",
    "model.add(Dense(8, activation= \"relu\"))\n",
    "model.add(Dense(4, activation= \"relu\"))\n",
    "model.add(Dense(1, activation= \"sigmoid\"))\n",
    "\n",
    "#define my own netowrk with fully connected layers "
   ]
  },
  {
   "cell_type": "code",
   "execution_count": 15,
   "id": "5f4b2529",
   "metadata": {},
   "outputs": [],
   "source": [
    "model.compile(optimizer='Adam', loss='binary_crossentropy', metrics=['accuracy'])\n",
    "#config the model and compile it "
   ]
  },
  {
   "cell_type": "code",
   "execution_count": 16,
   "id": "30cf7fac",
   "metadata": {},
   "outputs": [
    {
     "name": "stdout",
     "output_type": "stream",
     "text": [
      "Epoch 1/3\n",
      "94/94 [==============================] - 1s 4ms/step - loss: 0.6941 - accuracy: 0.4912 - val_loss: 0.6932 - val_accuracy: 0.4990\n",
      "Epoch 2/3\n",
      "94/94 [==============================] - 0s 2ms/step - loss: 0.6930 - accuracy: 0.5022 - val_loss: 0.6931 - val_accuracy: 0.5025\n",
      "Epoch 3/3\n",
      "94/94 [==============================] - 0s 2ms/step - loss: 0.6927 - accuracy: 0.5063 - val_loss: 0.6932 - val_accuracy: 0.4925\n"
     ]
    },
    {
     "data": {
      "text/plain": [
       "<keras.callbacks.History at 0x23866abb910>"
      ]
     },
     "execution_count": 16,
     "metadata": {},
     "output_type": "execute_result"
    }
   ],
   "source": [
    "model.fit(x_train, y_train, batch_size=64, epochs=3, validation_data=(x_val,y_val))\n",
    "#fit the data to train with 3 iteration and batch size 32 for 3 times "
   ]
  },
  {
   "cell_type": "code",
   "execution_count": null,
   "id": "78ed24b0",
   "metadata": {},
   "outputs": [],
   "source": []
  }
 ],
 "metadata": {
  "kernelspec": {
   "display_name": "Python 3",
   "language": "python",
   "name": "python3"
  },
  "language_info": {
   "codemirror_mode": {
    "name": "ipython",
    "version": 3
   },
   "file_extension": ".py",
   "mimetype": "text/x-python",
   "name": "python",
   "nbconvert_exporter": "python",
   "pygments_lexer": "ipython3",
   "version": "3.9.6"
  }
 },
 "nbformat": 4,
 "nbformat_minor": 5
}
